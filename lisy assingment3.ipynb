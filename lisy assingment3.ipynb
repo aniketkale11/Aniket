{
 "cells": [
  {
   "cell_type": "code",
   "execution_count": 4,
   "id": "27d2848e-9283-42fb-ad38-8d0807f75217",
   "metadata": {},
   "outputs": [
    {
     "name": "stdout",
     "output_type": "stream",
     "text": [
      "[2, 4, 6]\n",
      "[1, 3, 5]\n"
     ]
    }
   ],
   "source": [
    "#Q 1 \n",
    "# Create 2 lists from a given list where \n",
    "# 1st list will contain all the odd numbers from the original list and\n",
    "# the 2nd one will contain all the even numbers\n",
    "L = [1,2,3,4,5,6]\n",
    "odd=[]\n",
    "even=[]\n",
    "for i in L:\n",
    "    if i %2==0:\n",
    "        odd.append(i)\n",
    "    else:\n",
    "        even.append(i)\n",
    "print (odd)\n",
    "print (even)"
   ]
  },
  {
   "cell_type": "code",
   "execution_count": 7,
   "id": "ca515359-a126-4453-9344-31846a9df4fd",
   "metadata": {},
   "outputs": [
    {
     "name": "stdin",
     "output_type": "stream",
     "text": [
      "enter the element: aniket pandharinath kale\n"
     ]
    },
    {
     "name": "stdout",
     "output_type": "stream",
     "text": [
      "aniket pandharinath kale\n",
      "<class 'list'>\n"
     ]
    }
   ],
   "source": [
    "#Q 2\n",
    "# How to take list as input from user\n",
    "l=list(input(\"enter the element:\"))\n",
    "print (\"\".join(l))\n",
    "print (type (l))       "
   ]
  },
  {
   "cell_type": "code",
   "execution_count": 17,
   "id": "ea019b44-64c3-4a5a-b8af-2cfed39a0e0b",
   "metadata": {},
   "outputs": [
    {
     "name": "stdout",
     "output_type": "stream",
     "text": [
      "[4, 5, 6, 7, 8, [1, 2, 3, 4]]\n"
     ]
    }
   ],
   "source": [
    "#Q 3 \n",
    "# Write a program to merge 2 list without using the + operator\n",
    "L1 = [1,2,3,4]\n",
    "\n",
    "l2=[4,5,6,7,8]\n",
    "l2.append(L1)\n",
    "print (l2)\n"
   ]
  },
  {
   "cell_type": "code",
   "execution_count": 19,
   "id": "899f1689-e31f-4bb6-a394-0c3e33000672",
   "metadata": {},
   "outputs": [
    {
     "name": "stdout",
     "output_type": "stream",
     "text": [
      "[1, 2, 3, 4, 5, 3]\n"
     ]
    }
   ],
   "source": [
    "# Q3\n",
    "# Write a program to replace an item with a different item if found in the list \n",
    "L = [1,2,3,4,5,3]\n",
    "# replace 3 with 300\n",
    "\n"
   ]
  },
  {
   "cell_type": "code",
   "execution_count": null,
   "id": "45e10674-0554-488e-84e3-37b3b0306b7a",
   "metadata": {},
   "outputs": [],
   "source": []
  },
  {
   "cell_type": "code",
   "execution_count": null,
   "id": "fd4c0af9-bdbe-4f7c-b16b-6713ebb846b6",
   "metadata": {},
   "outputs": [],
   "source": []
  },
  {
   "cell_type": "code",
   "execution_count": 22,
   "id": "ffc66502-a8f2-46bf-bb45-6ba5d3bdeeb8",
   "metadata": {},
   "outputs": [
    {
     "name": "stdout",
     "output_type": "stream",
     "text": [
      "[1, 2, 3, 4, 5]\n"
     ]
    }
   ],
   "source": [
    "# Q 6 \n",
    "# Write a program to remove duplicate items from a list\n",
    "\n",
    "L = [1,2,1,2,3,4,5,3,4]\n",
    "l1=set(L)\n",
    "print (list(l1))"
   ]
  },
  {
   "cell_type": "code",
   "execution_count": 25,
   "id": "935b300c-dede-4099-97f1-1a9f49c7f8ae",
   "metadata": {},
   "outputs": [
    {
     "name": "stdout",
     "output_type": "stream",
     "text": [
      "not sorted\n"
     ]
    }
   ],
   "source": [
    "#Q 7\n",
    "# Write a program to check if a list is in ascending order or not\n",
    "l=[1,2,3,4,9,5,6,7]\n",
    "if l==sorted(l):\n",
    "    print (\"true\")\n",
    "else:\n",
    "    print (\"not sorted\")"
   ]
  },
  {
   "cell_type": "code",
   "execution_count": null,
   "id": "2c7cc6f0-3803-494f-a76c-24f9eb134ffa",
   "metadata": {},
   "outputs": [],
   "source": []
  }
 ],
 "metadata": {
  "kernelspec": {
   "display_name": "Python 3 (ipykernel)",
   "language": "python",
   "name": "python3"
  },
  "language_info": {
   "codemirror_mode": {
    "name": "ipython",
    "version": 3
   },
   "file_extension": ".py",
   "mimetype": "text/x-python",
   "name": "python",
   "nbconvert_exporter": "python",
   "pygments_lexer": "ipython3",
   "version": "3.11.7"
  }
 },
 "nbformat": 4,
 "nbformat_minor": 5
}
