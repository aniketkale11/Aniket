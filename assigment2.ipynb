{
 "cells": [
  {
   "cell_type": "code",
   "execution_count": 22,
   "id": "d6054036-0375-4682-bbe3-8a31234a8440",
   "metadata": {},
   "outputs": [
    {
     "name": "stdin",
     "output_type": "stream",
     "text": [
      "enter the number: 5\n"
     ]
    },
    {
     "name": "stdout",
     "output_type": "stream",
     "text": [
      "5 4 3 2 1 \n",
      "4 3 2 1 \n",
      "3 2 1 \n",
      "2 1 \n",
      "1 \n"
     ]
    }
   ],
   "source": [
    "### `Problem 1` - Print the following pattern. Write a program to use for loop to print the following reverse number pattern.\n",
    "#  5 4 3 2 1 \n",
    "#  4 3 2 1 \n",
    "#  3 2 1 \n",
    "#  2 1 \n",
    "#  1\n",
    "n= int (input(\"enter the number:\"))\n",
    "for i in range (n,0,-1):\n",
    "    for j in range (i,0,-1):\n",
    "        print (j,end=(\" \"))\n",
    "    print ()\n"
   ]
  },
  {
   "cell_type": "code",
   "execution_count": 31,
   "id": "9f29b8e9-a176-4280-8917-f3733979cbde",
   "metadata": {},
   "outputs": [
    {
     "name": "stdin",
     "output_type": "stream",
     "text": [
      "Enter the number : 5\n"
     ]
    },
    {
     "name": "stdout",
     "output_type": "stream",
     "text": [
      "* \n",
      "* * \n",
      "* * * \n",
      "* * * * \n",
      "* * * * * \n",
      "* * * * \n",
      "* * * \n",
      "* * \n",
      "* \n",
      "\n",
      "\n"
     ]
    }
   ],
   "source": [
    "'''Problem 2: Print the following pattern.\n",
    "* \n",
    "* * \n",
    "* * * \n",
    "* * * * \n",
    "* * * * * \n",
    "* * * * \n",
    "* * * \n",
    "* * \n",
    "*\n",
    "'''\n",
    "n=int( input(\"Enter the number :\"))\n",
    "for i in range (1,n+1):\n",
    "    for j in range(1,i+1):\n",
    "        print (\"*\",end=(\" \"))\n",
    "    print ()  \n",
    "for i in range (n+1):\n",
    "    for j in range(i,n-1):\n",
    "        print (\"*\",end=(\" \"))\n",
    "    print ()     "
   ]
  },
  {
   "cell_type": "code",
   "execution_count": 38,
   "id": "cf3271c7-0119-43f1-adba-7ddbebb66e52",
   "metadata": {},
   "outputs": [
    {
     "name": "stdin",
     "output_type": "stream",
     "text": [
      "Enter the number : 3\n"
     ]
    },
    {
     "name": "stdout",
     "output_type": "stream",
     "text": [
      "      * \n",
      "    * * * \n",
      "  * * * * * \n"
     ]
    }
   ],
   "source": [
    "'''\n",
    "Problem 3:Write a program to pring the following pattern\n",
    "    *\n",
    "  * * *\n",
    "* * * * *\n",
    "'''\n",
    "n=int( input(\"Enter the number :\"))\n",
    "for i in range (n):\n",
    "    for j in range (i,n):\n",
    "        print (\" \",end=(\" \"))\n",
    "    for j in range (1,i+1):\n",
    "         print (\"*\",end=(\" \") )\n",
    "    for j in range (0,i+1):\n",
    "         print (\"*\",end=(\" \") )\n",
    "    print ( )            "
   ]
  },
  {
   "cell_type": "code",
   "execution_count": 57,
   "id": "15129480-094e-42dd-a946-1868ac6303c4",
   "metadata": {},
   "outputs": [
    {
     "name": "stdin",
     "output_type": "stream",
     "text": [
      "enter number 5\n"
     ]
    },
    {
     "name": "stdout",
     "output_type": "stream",
     "text": [
      "\n",
      "\n",
      "1 \n",
      "\n",
      "2 1 \n",
      "\n",
      "3 2 1 \n",
      "\n",
      "4 3 2 1 \n",
      "\n",
      "5 4 3 2 1 \n",
      "\n"
     ]
    }
   ],
   "source": [
    "'''\n",
    "Problem 4:Write a program to print the following pattern\n",
    "1\n",
    "\n",
    "2 1\n",
    "\n",
    "3 2 1\n",
    "\n",
    "4 3 2 1\n",
    "\n",
    "5 4 3 2 1\n",
    "'''\n",
    "\n",
    "n= int (input(\"enter number\"))\n",
    "for i in range(0,n+1,1):\n",
    "    for j in range (i,0,-1):\n",
    "         print (j,end=(\" \"))\n",
    "    print (\"\\n\")   "
   ]
  },
  {
   "cell_type": "code",
   "execution_count": 11,
   "id": "7e2f3d58-4628-4ce1-8516-4db1dcce7d4f",
   "metadata": {},
   "outputs": [
    {
     "name": "stdin",
     "output_type": "stream",
     "text": [
      "Enter the value of x: 2\n",
      "Enter the value of n term: 5\n"
     ]
    },
    {
     "name": "stdout",
     "output_type": "stream",
     "text": [
      "the sum of nth term is: 16.066666666666666\n"
     ]
    }
   ],
   "source": [
    " #Problem 5: Write a Python Program to Find the Sum of the Series till the nth term:\n",
    " #1 + x^2/2 + x^3/3 + … x^n/n\n",
    "x=int (input(\"Enter the value of x:\"))\n",
    "n=int (input(\"Enter the value of n term:\"))\n",
    "sum=1\n",
    "for i in range (2,n+1):\n",
    "     sum=sum+(x**i)/i\n",
    "print (\"the sum of nth term is:\",sum)    \n",
    "       "
   ]
  },
  {
   "cell_type": "code",
   "execution_count": 14,
   "id": "9e2d94aa-7ede-407f-9e38-6b94d293a9af",
   "metadata": {},
   "outputs": [
    {
     "name": "stdin",
     "output_type": "stream",
     "text": [
      "enter number 5\n"
     ]
    },
    {
     "name": "stdout",
     "output_type": "stream",
     "text": [
      "2 + 22 + 222 + 2222 + 22222 = 24690\n"
     ]
    }
   ],
   "source": [
    "'''\n",
    "Problem 7 - Find the sum of the series upto n terms.\n",
    "Write a program to calculate the sum of series up to n term.\n",
    "For example, if n =5 the series will become 2 + 22 + 222 + 2222 + 22222 = 24690.\n",
    "Take the user input and then calculate. And the output style should match which is given in the example.\n",
    "'''\n",
    "n= int (input(\"enter number\"))\n",
    "sum=0\n",
    "term=0\n",
    "for i in range (n-1):\n",
    "    term= term*10+2                                                    ### askk question how to remove last opreter\n",
    "    sum=sum+term\n",
    "    print (term,\"+\",end=(\" \")) \n",
    "term=term*10+2\n",
    "print(term,end=(\" \"))\n",
    "sum=sum+term    \n",
    "print (\"=\",sum)\n",
    "\n",
    "\n",
    "\n",
    "\n",
    "\n"
   ]
  },
  {
   "cell_type": "code",
   "execution_count": 22,
   "id": "2733f12e-e4e2-4140-ad8b-522d5f4b0331",
   "metadata": {},
   "outputs": [
    {
     "name": "stdin",
     "output_type": "stream",
     "text": [
      "Enter the value of x: 5\n"
     ]
    },
    {
     "name": "stdout",
     "output_type": "stream",
     "text": [
      "19.1808\n"
     ]
    }
   ],
   "source": [
    "#  Problem 6: The natural logarithm can be approximated by the following series.\n",
    "\n",
    "x= int (input(\"Enter the value of x:\"))\n",
    "sum=0\n",
    "for i in range (1,x):\n",
    "    sum+=(x-1/2)+1/2 *((x-1)/x)**i\n",
    "                                              ### sum += (x - 1/2) + 1/2 * ((x - 1) / x) **i                       \n",
    "print (sum)    \n",
    "    \n",
    "\n",
    "\n"
   ]
  },
  {
   "cell_type": "code",
   "execution_count": 37,
   "id": "a6d6b5f9-24f1-4af8-ade1-0634a23bcd51",
   "metadata": {},
   "outputs": [
    {
     "name": "stdout",
     "output_type": "stream",
     "text": [
      "1 2 3 4\n",
      "1 2 4 3\n",
      "1 3 2 4\n",
      "1 3 4 2\n",
      "1 4 2 3\n",
      "1 4 3 2\n",
      "2 1 3 4\n",
      "2 1 4 3\n",
      "2 3 1 4\n",
      "2 3 4 1\n",
      "2 4 1 3\n",
      "2 4 3 1\n",
      "3 1 2 4\n",
      "3 1 4 2\n",
      "3 2 1 4\n",
      "3 2 4 1\n",
      "3 4 1 2\n",
      "3 4 2 1\n",
      "4 1 2 3\n",
      "4 1 3 2\n",
      "4 2 1 3\n",
      "4 2 3 1\n",
      "4 3 1 2\n",
      "4 3 2 1\n"
     ]
    }
   ],
   "source": [
    "'''\n",
    "##  Problem 8: Write a program to print all the unique combinations of 1,2,3 and 4\n",
    "1 2 3 4\n",
    "1 2 4 3\n",
    "1 3 2 4\n",
    "1 3 4 2\n",
    "1 4 2 3\n",
    "1 4 3 2\n",
    "2 1 3 4\n",
    "2 1 4 3\n",
    "2 3 1 4\n",
    "'''\n",
    "number=[1,2,3,4]\n",
    "\n",
    "for i in range (len(number)):\n",
    "    for j in range(len(number)):\n",
    "       if j==i:\n",
    "           continue\n",
    "       for k in range (len(number)):\n",
    "           if k==j or k==i:\n",
    "               continue\n",
    "           for l in range(len(number)):  \n",
    "               if l==k or l==j or l==i:\n",
    "                   continue\n",
    "               sequence=[number[i],number[j],number[k],number[l]]\n",
    "               print(\" \".join( map (str,sequence)))    ###################################\n",
    "               \n",
    "\n",
    "\n"
   ]
  },
  {
   "cell_type": "code",
   "execution_count": 15,
   "id": "21c51cb5-c842-42ed-b32e-50f40f2fd2c1",
   "metadata": {},
   "outputs": [
    {
     "name": "stdin",
     "output_type": "stream",
     "text": [
      "Enter a decimal number:  10\n"
     ]
    },
    {
     "name": "stdout",
     "output_type": "stream",
     "text": [
      "The binary equivalent of 10 is 1010\n"
     ]
    }
   ],
   "source": [
    "# Problem 9: Write a program that will take a decimal number as input and prints out the binary equivalent of the number\n",
    "\n",
    "\n",
    "# Function to convert decimal to binary\n",
    "def decimal_to_binary(decimal_number):\n",
    "    if decimal_number == 0:\n",
    "        return \"0\"\n",
    "    binary_number = \"\"\n",
    "    while decimal_number > 0:\n",
    "        remainder = decimal_number % 2\n",
    "        binary_number = str(remainder) + binary_number\n",
    "        decimal_number = decimal_number // 2\n",
    "    return binary_number\n",
    "\n",
    "# Taking user input\n",
    "decimal_number = int(input(\"Enter a decimal number: \"))\n",
    "\n",
    "# Converting to binary and printing the result\n",
    "#binary_number = decimal_to_binary(decimal_number)\n",
    "print(f\"The binary equivalent of {decimal_number} is {binary_number}\")\n",
    "\n",
    "\n",
    "\n"
   ]
  },
  {
   "cell_type": "code",
   "execution_count": 21,
   "id": "3faa96a3-503b-4d1d-9ed4-e8c160e5ef16",
   "metadata": {},
   "outputs": [
    {
     "data": {
      "text/plain": [
       "0"
      ]
     },
     "execution_count": 21,
     "metadata": {},
     "output_type": "execute_result"
    }
   ],
   "source": [
    "0%2"
   ]
  },
  {
   "cell_type": "code",
   "execution_count": 44,
   "id": "6cb59fa3-730e-43d3-b7b9-74a837871ba9",
   "metadata": {},
   "outputs": [
    {
     "name": "stdin",
     "output_type": "stream",
     "text": [
      "enter number: 10\n"
     ]
    },
    {
     "name": "stdout",
     "output_type": "stream",
     "text": [
      "1010 \n"
     ]
    }
   ],
   "source": [
    "decimal_number=int(input(\"enter number:\"))\n",
    "if decimal_number==0:\n",
    "    pass\n",
    "\n",
    "binary_num=\" \"\n",
    "while decimal_number>0:\n",
    "    remndr=decimal_number%2\n",
    "    binary_num=str(remndr)+binary_num\n",
    "    decimal_number=decimal_number//2\n",
    "\n",
    "print (binary_num)"
   ]
  },
  {
   "cell_type": "code",
   "execution_count": 45,
   "id": "e1c3884c-33ce-4448-b7ea-fa359b0aabdf",
   "metadata": {},
   "outputs": [],
   "source": [
    "# Problem 10: Write a program that will take 2 numbers as input and prints the LCM and HCF of those 2 numbers\n",
    "\n",
    "\n",
    "\n",
    "\n"
   ]
  },
  {
   "cell_type": "code",
   "execution_count": 46,
   "id": "915fd739-de8a-40f7-affa-ac1e89a29c3e",
   "metadata": {},
   "outputs": [
    {
     "name": "stdin",
     "output_type": "stream",
     "text": [
      "Enter the first number:  20\n",
      "Enter the second number:  45\n"
     ]
    },
    {
     "name": "stdout",
     "output_type": "stream",
     "text": [
      "The HCF of 20 and 45 is: 5\n",
      "The LCM of 20 and 45 is: 180\n"
     ]
    }
   ],
   "source": [
    "import math\n",
    "\n",
    "def calculate_hcf(a, b):\n",
    "    # Using the math.gcd function to find the HCF\n",
    "    return math.gcd(a, b)\n",
    "\n",
    "def calculate_lcm(a, b):\n",
    "    # Using the relationship between LCM and GCD to find the LCM\n",
    "    return abs(a * b) // calculate_hcf(a, b)\n",
    "\n",
    "# Taking two numbers as input from the user\n",
    "num1 = int(input(\"Enter the first number: \"))\n",
    "num2 = int(input(\"Enter the second number: \"))\n",
    "\n",
    "# Calculating HCF and LCM\n",
    "hcf = calculate_hcf(num1, num2)\n",
    "lcm = calculate_lcm(num1, num2)\n",
    "\n",
    "# Printing the results\n",
    "print(f\"The HCF of {num1} and {num2} is: {hcf}\")\n",
    "print(f\"The LCM of {num1} and {num2} is: {lcm}\")\n"
   ]
  },
  {
   "cell_type": "code",
   "execution_count": 62,
   "id": "169ecf8d-6c52-4c01-8259-bcad037c874d",
   "metadata": {},
   "outputs": [
    {
     "name": "stdin",
     "output_type": "stream",
     "text": [
      "Enter the number 20\n",
      "Enter the number 105\n"
     ]
    },
    {
     "name": "stdout",
     "output_type": "stream",
     "text": [
      "The HCF of 20 and 105 is : 5\n",
      "The lcm of 20 and 105 is : 420\n"
     ]
    }
   ],
   "source": [
    "a= int (input(\"Enter the number\"))\n",
    "b= int (input(\"Enter the number\"))\n",
    "import math\n",
    "print(\"The HCF of\",a,\"and\",b, \"is :\",math.gcd(a,b))\n",
    "print(\"The lcm of\",a,\"and\",b, \"is :\",(a*b)//math.gcd(a,b))\n"
   ]
  },
  {
   "cell_type": "code",
   "execution_count": 34,
   "id": "f65b2cc8-702e-4bba-8a70-fa9cfd65cff8",
   "metadata": {},
   "outputs": [
    {
     "name": "stdout",
     "output_type": "stream",
     "text": [
      "DSA\n"
     ]
    }
   ],
   "source": [
    "#Problem 11: Create Short Form from initial character\n",
    "s=(\"data satucture algorithum\")\n",
    "l=s.split()\n",
    "upper=\"\"\n",
    "id=0\n",
    "for i in range (len(l)):\n",
    "  upper+=l[id][0].upper()\n",
    "  id=id+1\n",
    "print(upper.upper())\n"
   ]
  },
  {
   "cell_type": "code",
   "execution_count": 69,
   "id": "9dc371bd-19d3-4ef7-88a4-7fd1036cb683",
   "metadata": {},
   "outputs": [
    {
     "name": "stdout",
     "output_type": "stream",
     "text": [
      "camdatapusx\n"
     ]
    }
   ],
   "source": [
    "##Problem 12: Append second string in the middle of first string\n",
    "s=(\"campusx\")\n",
    "p=\"data\"\n",
    "l2=len(s)//2\n",
    "l1=[]\n",
    "id=0\n",
    "for i in range (len(s)):\n",
    "    if i==l2:\n",
    "        l1.append(p)\n",
    "    l1+=s[i]\n",
    "    id=id+1\n",
    "    \n",
    "print(\"\".join(l1) )   \n",
    "        "
   ]
  },
  {
   "cell_type": "code",
   "execution_count": 7,
   "id": "0c62947b-587d-4f17-9c03-5f1396a7c18f",
   "metadata": {},
   "outputs": [
    {
     "name": "stdin",
     "output_type": "stream",
     "text": [
      "Enter the string: PyNaTive\n"
     ]
    },
    {
     "name": "stdout",
     "output_type": "stream",
     "text": [
      "yaivePNT\n"
     ]
    }
   ],
   "source": [
    "# Problem 13:Given string contains a combination of the lower and upper case letters. \n",
    "# Write a program to arrange the characters of a string so that all lowercase letters should come first.\n",
    "\n",
    "s= input(\"Enter the string:\")\n",
    "upper=[]\n",
    "lower=[]\n",
    "for i in range (len(s)):\n",
    "    if s[i].isupper():          \n",
    "        upper.append(s[i])\n",
    "    else:\n",
    "        lower.append(s[i])\n",
    "print ((\"\".join(lower))+(\"\".join(upper)))\n",
    " \n",
    "\n",
    "\n",
    "\n"
   ]
  },
  {
   "cell_type": "code",
   "execution_count": 37,
   "id": "ba875ce8-49d8-48e5-b25e-c1591aafa903",
   "metadata": {},
   "outputs": [
    {
     "name": "stdin",
     "output_type": "stream",
     "text": [
      "Enter the string: hel123O4every093\n"
     ]
    },
    {
     "name": "stdout",
     "output_type": "stream",
     "text": [
      "22\n",
      "2.75\n"
     ]
    }
   ],
   "source": [
    "'''\n",
    "Problem 14:Take a alphanumeric string input and print the sum and average of the digits\n",
    "that appear in the string, ignoring all other characters.\n",
    "'''\n",
    "s= input(\"Enter the string:\")\n",
    "sum=0\n",
    "a=1\n",
    "for i in s:\n",
    "    if i.isdigit():\n",
    "        sum=sum+int(i)\n",
    "        a=a+len(i)\n",
    "print (sum)\n",
    "avrage=sum/a\n",
    "print (avrage)\n"
   ]
  },
  {
   "cell_type": "code",
   "execution_count": 46,
   "id": "24a79a49-776a-472c-b743-adcd5f84c1e2",
   "metadata": {},
   "outputs": [
    {
     "name": "stdin",
     "output_type": "stream",
     "text": [
      "eneter the string I am 25 years and 10 months old\n"
     ]
    },
    {
     "name": "stdout",
     "output_type": "stream",
     "text": [
      "2510\n"
     ]
    }
   ],
   "source": [
    "## Problem 15: Removal of all characters from a string except integers\n",
    "#str1 = 'I am 25 years and 10 months old'\n",
    "str1=input (\"eneter the string\")\n",
    "sum=[]\n",
    "for i in str1:\n",
    "    if i.isdigit():\n",
    "        sum.append(i)\n",
    "\n",
    "print (\"\".join(sum))"
   ]
  },
  {
   "cell_type": "code",
   "execution_count": 58,
   "id": "a8bbd2a1-c441-4842-be78-e9ed6410a5cd",
   "metadata": {},
   "outputs": [
    {
     "name": "stdin",
     "output_type": "stream",
     "text": [
      "Enter the string: aniket\n"
     ]
    },
    {
     "name": "stdout",
     "output_type": "stream",
     "text": [
      "not symentric\n"
     ]
    }
   ],
   "source": [
    "# Problem 16: Check whether the string is Symmetrical.\n",
    "s= input(\"Enter the string:\")\n",
    "lenth=len(s)\n",
    "if lenth %2!=0:\n",
    "    print (\"not symmetrical\")\n",
    "mid= lenth //2 \n",
    "first=s[mid:]\n",
    "second=s[:mid]\n",
    "if first==second:\n",
    "    print (\"it is symetric\")\n",
    "else:\n",
    "    print (\"not symentric\")\n",
    "\n",
    "\n"
   ]
  },
  {
   "cell_type": "code",
   "execution_count": 91,
   "id": "8ce681cf-2303-41e3-88b0-efb698af974d",
   "metadata": {},
   "outputs": [
    {
     "name": "stdin",
     "output_type": "stream",
     "text": [
      "Enter the string: geeks quiz practice code\n"
     ]
    },
    {
     "name": "stdout",
     "output_type": "stream",
     "text": [
      "code practice quiz geeks\n"
     ]
    },
    {
     "name": "stdin",
     "output_type": "stream",
     "text": [
      "Enter the string: my name is laxmi\n"
     ]
    },
    {
     "name": "stdout",
     "output_type": "stream",
     "text": [
      "laxmi is name my\n"
     ]
    }
   ],
   "source": [
    "# Problem 17: Reverse words in a given String\n",
    "#Example 1:\n",
    "#geeks quiz practice code\n",
    "s= input(\"Enter the string:\")\n",
    "s1=s.split()\n",
    "\n",
    "print (\" \".join(s1[::-1]))\n",
    "\n",
    "\"\"\"  Example 2:\n",
    "\n",
    "Input:\n",
    "\n",
    "my name is laxmi\n",
    "Output:\n",
    "\n",
    "laxmi is name my \n",
    "\n",
    "\"\"\"\n",
    "s= input(\"Enter the string:\")\n",
    "s1=s.split()\n",
    "\n",
    "print (\" \".join(s1[::-1]))\n",
    "    "
   ]
  },
  {
   "cell_type": "code",
   "execution_count": 98,
   "id": "477cec98-8ef2-4352-8715-7717176aca1f",
   "metadata": {},
   "outputs": [
    {
     "name": "stdout",
     "output_type": "stream",
     "text": [
      "{'apple', 'fruits'}\n"
     ]
    }
   ],
   "source": [
    "#Problem 18: Find uncommon words from two Strings.\n",
    "A = \"apple banana mango\" \n",
    "B = \"banana fruits mango\"\n",
    "s1=set(A.split())\n",
    "s2=set(B.split())\n",
    "uncooma_a=s1-s2\n",
    "uncooma_b=s2-s1\n",
    "uncomman_word=uncooma_a.union(uncooma_b)\n",
    "print(uncomman_word)"
   ]
  },
  {
   "cell_type": "code",
   "execution_count": 99,
   "id": "2bed40f3-09c9-4c8c-9b01-f9d70678e12b",
   "metadata": {},
   "outputs": [
    {
     "name": "stdin",
     "output_type": "stream",
     "text": [
      "Enter the string: We can learn data science through campusx mentorship program.\n",
      "Enter the string: campusx\n"
     ]
    },
    {
     "name": "stdout",
     "output_type": "stream",
     "text": [
      "34\n"
     ]
    }
   ],
   "source": [
    "s= input(\"Enter the string:\")\n",
    "word=input(\"Enter the string:\")\n",
    "s1=s.split()\n",
    "index=0\n",
    "for i in s1:\n",
    "    if i==word:\n",
    "        print (index)\n",
    "     \n",
    "    index+=len(i)+1\n",
    "\n",
    "    "
   ]
  },
  {
   "cell_type": "code",
   "execution_count": 103,
   "id": "e8883cd9-5668-4e54-901c-02bf93d49d10",
   "metadata": {},
   "outputs": [
    {
     "name": "stdin",
     "output_type": "stream",
     "text": [
      "Enter the string: aniiikkkeet\n"
     ]
    },
    {
     "name": "stdout",
     "output_type": "stream",
     "text": [
      "aniket\n"
     ]
    }
   ],
   "source": [
    "## Problem 20: Write a program that can remove all the duplicate characters from a string. User will provide the input.\n",
    "s= input(\"Enter the string:\")\n",
    "seen = set()  # A set to keep track of characters we've already seen\n",
    "result = []   # A list to build the result string without duplicates\n",
    "    \n",
    "for char in s:\n",
    "    if char not in seen:\n",
    "        seen.add(char)\n",
    "        result.append(char)\n",
    "\n",
    "print (\"\".join(result))"
   ]
  },
  {
   "cell_type": "code",
   "execution_count": null,
   "id": "187080ff-6228-42bd-8b4e-2842556ac1d1",
   "metadata": {},
   "outputs": [],
   "source": []
  }
 ],
 "metadata": {
  "kernelspec": {
   "display_name": "Python 3 (ipykernel)",
   "language": "python",
   "name": "python3"
  },
  "language_info": {
   "codemirror_mode": {
    "name": "ipython",
    "version": 3
   },
   "file_extension": ".py",
   "mimetype": "text/x-python",
   "name": "python",
   "nbconvert_exporter": "python",
   "pygments_lexer": "ipython3",
   "version": "3.11.7"
  }
 },
 "nbformat": 4,
 "nbformat_minor": 5
}
