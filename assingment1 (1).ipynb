{
 "cells": [
  {
   "cell_type": "code",
   "execution_count": 7,
   "id": "2c752705-dadc-4df2-bb90-d79e1c399486",
   "metadata": {
    "scrolled": true
   },
   "outputs": [
    {
     "name": "stdin",
     "output_type": "stream",
     "text": [
      "enter salery in lakh : 1.5\n"
     ]
    },
    {
     "name": "stdout",
     "output_type": "stream",
     "text": [
      "salery is : 0.10 lakh\n"
     ]
    }
   ],
   "source": [
    "### `Problem 1`: Write a program that will give you in hand monthly salary after deduction on CTC - HRA(10%), DA(5%), PF(3%) and taxes deduction as below:\n",
    "\n",
    "#> Salary(Lakhs) : Tax(%)\n",
    "\n",
    "\"\"\"*   Below 5 : 0%\n",
    "*   5-10 : 10%\n",
    "*   10-20 : 20%\n",
    "*   aboove 20 : 30%\"\"\"\n",
    "ctc =float(input( \"enter salery in lakh :\"))\n",
    "HAR_per=0.10\n",
    "DA_per=0.05\n",
    "PF_per=0.03\n",
    "\n",
    "har_per= ctc * HAR_per\n",
    "da_per= ctc * DA_per\n",
    "pf_per= ctc * PF_per\n",
    "taxble_salery= ctc - (har_per+da_per+pf_per)\n",
    "if taxble_salery <5:\n",
    "    tax=0\n",
    "elif 5 <= taxble_salery <10:\n",
    "    tax=0.10\n",
    "elif 10 <=taxble_salery <20:\n",
    "    tax=0.20\n",
    "else:\n",
    "    tax=0.30\n",
    "\n",
    "\n",
    "tax_deu=taxble_salery*tax\n",
    "hand_held=taxble_salery-tax_deu\n",
    "#ctc = float(input(\"Enter the CTC in Lakhs: \")) * 100000 \n",
    "montly =hand_held/12\n",
    "print (f\"salery is : {montly:.2f} lakh\")\n",
    "#print(f\"In-hand monthly salary: {monthly_salary :.2f } lakhs\")\n"
   ]
  },
  {
   "cell_type": "code",
   "execution_count": 22,
   "id": "63aebf07-9405-4d26-a479-a8ab97fc240a",
   "metadata": {},
   "outputs": [
    {
     "name": "stdin",
     "output_type": "stream",
     "text": [
      "enter the angle1: 60\n",
      "enter the angle2: 60.5\n",
      "enter the angle13: 59.5\n"
     ]
    },
    {
     "name": "stdout",
     "output_type": "stream",
     "text": [
      "tringle is made\n"
     ]
    }
   ],
   "source": [
    "## Problem 2: Write a program that take a user input of three angles and will find out whether it can form a triangle or not.\n",
    "angle1= float (input (\"enter the angle1:\"))\n",
    "angle2= float (input (\"enter the angle2:\"))\n",
    "angle3= eval (input (\"enter the angle13:\"))\n",
    "\n",
    "tringle = angle1+angle2+angle3\n",
    "                                                               ###self\n",
    "if tringle==180:\n",
    "    print (\"tringle is made\")\n",
    "else:\n",
    "    print (\"tringle not found\")"
   ]
  },
  {
   "cell_type": "code",
   "execution_count": 32,
   "id": "42b726cd-54b3-4575-87e6-7d8ec4d9635c",
   "metadata": {},
   "outputs": [
    {
     "name": "stdin",
     "output_type": "stream",
     "text": [
      "Enter the cost price: 50\n",
      "Enter the seling price: 50\n"
     ]
    },
    {
     "name": "stdout",
     "output_type": "stream",
     "text": [
      "Get loss\n"
     ]
    }
   ],
   "source": [
    "##Problem 3: Write a program that will take user input of cost price and selling price and determines whether its a loss or a profit.\n",
    "\n",
    "cost=float(input (\"Enter the cost price:\"))\n",
    "seling = float(input(\"Enter the seling price:\"))\n",
    "loss=cost-seling\n",
    "profit=seling-cost\n",
    "if profit>0:\n",
    "    print (\"Get profit\")                              ###self\n",
    "else:\n",
    "    print (\"Get loss\")"
   ]
  },
  {
   "cell_type": "code",
   "execution_count": 6,
   "id": "5e4d641f-beeb-4fb0-914d-38697c6c4914",
   "metadata": {},
   "outputs": [
    {
     "name": "stdin",
     "output_type": "stream",
     "text": [
      " enter one number that you want perform action\n",
      "1.cm to ft\n",
      "2.km to miles\n",
      "3.USD to INR\n",
      "Exit\n",
      " 4\n"
     ]
    },
    {
     "name": "stdout",
     "output_type": "stream",
     "text": [
      "Exit\n"
     ]
    }
   ],
   "source": [
    "##Problem 4: Write a menu-driven program -\n",
    "\"\"\"cm to ft\n",
    "km to miles\n",
    "USD to INR\n",
    "exit\n",
    "\"\"\"\n",
    "\n",
    "num=int (input (\"\"\" enter one number that you want perform action\n",
    "1.cm to ft\n",
    "2.km to miles\n",
    "3.USD to INR\n",
    "Exit\n",
    "\"\"\"))\n",
    "if num== 1:\n",
    "    cm= float (input (\" Enter the cm :\"))\n",
    "    cm1=cm*0.3280\n",
    "    print ( cm, \"CM is into ft\",cm1)                      ###self\n",
    "elif num==2:\n",
    "    km = folat (input (\" Enter KM :\"))\n",
    "    km1= km*0.621371\n",
    "    print( km,\" KM is into miles is :\",km1)\n",
    "elif num==3 :\n",
    "    USD= float (input (\"Enter USD:\"))\n",
    "    usd1= USD*83.54\n",
    "    print (USD,\" USD is into INR is :\",usd1)\n",
    "else:\n",
    "    print (\"Exit\")"
   ]
  },
  {
   "cell_type": "code",
   "execution_count": 17,
   "id": "0c9f0d05-a076-4c84-81ed-e96581f0c384",
   "metadata": {},
   "outputs": [
    {
     "name": "stdin",
     "output_type": "stream",
     "text": [
      " entrthe number : 10\n"
     ]
    },
    {
     "name": "stdout",
     "output_type": "stream",
     "text": [
      "0 1 1 2 3 5 8 13 21 34 "
     ]
    }
   ],
   "source": [
    " ##Problem 5 - Exercise 12: Display Fibonacci series up to 10 terms\n",
    "\n",
    "n= int (input(\" entrthe number :\"))\n",
    "n1,n2=0,1\n",
    "if n==1:\n",
    "    print (n1)\n",
    "else :\n",
    "    print (n1,n2,end=\" \")\n",
    "    for i in range (2,n):                               ##50, self\n",
    "        n3=n2+n1\n",
    "        n1=n2\n",
    "        n2=n3\n",
    "        print (n3,end=\" \")\n",
    "\n"
   ]
  },
  {
   "cell_type": "code",
   "execution_count": 32,
   "id": "5ddcd750-b0d5-4c88-a54a-eba32875eb28",
   "metadata": {},
   "outputs": [
    {
     "name": "stdin",
     "output_type": "stream",
     "text": [
      " enter the number : 5\n"
     ]
    },
    {
     "name": "stdout",
     "output_type": "stream",
     "text": [
      "120\n"
     ]
    },
    {
     "data": {
      "text/plain": [
       "120"
      ]
     },
     "execution_count": 32,
     "metadata": {},
     "output_type": "execute_result"
    }
   ],
   "source": [
    "## Problem 6 - Find the factorial of a given number.\n",
    "n= int (input(\" enter the number :\"))\n",
    "count = 1\n",
    "for i in range (1,n+1):\n",
    "    count =count*i\n",
    "print (count)  \n",
    "\n",
    "\n",
    "\n",
    "\n",
    "## second method \n",
    "import math\n",
    "math.factorial(5)\n"
   ]
  },
  {
   "cell_type": "code",
   "execution_count": 12,
   "id": "a0785b72-3cc4-4bb2-9f8e-e7c0331e4383",
   "metadata": {},
   "outputs": [
    {
     "name": "stdin",
     "output_type": "stream",
     "text": [
      "Enter the number  123456789\n"
     ]
    },
    {
     "name": "stdout",
     "output_type": "stream",
     "text": [
      "987654321\n"
     ]
    }
   ],
   "source": [
    "##Problem 7 - Reverse a given integer number.\n",
    "\n",
    "num=int(input(\"Enter the number \"))\n",
    "if num<0:\n",
    "    pass\n",
    "else:\n",
    "    revers=int(str(num)[::-1])                          ###self\n",
    "\n",
    "print (revers)\n",
    "\n",
    "\n",
    "\n",
    "##str_lst = str(lst)  # Output: '(1, 2, 3)'\n"
   ]
  },
  {
   "cell_type": "code",
   "execution_count": 12,
   "id": "b7d819c6-ce8f-4a36-8625-eda6ea0769b0",
   "metadata": {},
   "outputs": [
    {
     "name": "stdin",
     "output_type": "stream",
     "text": [
      "enter the number 30\n"
     ]
    },
    {
     "name": "stdout",
     "output_type": "stream",
     "text": [
      "465\n"
     ]
    }
   ],
   "source": [
    "##Problem 8: Take a user input as integer N.\n",
    "\"\"\"Find out the sum from 1 to N. If any number if divisible by 5, then skip that number. \n",
    "And if the sum is greater than 300, don't need to calculate the sum further more.\n",
    "Print the final result. And don't use for loop to solve this problem.\"\"\"\n",
    "n=int (input(\"enter the number\"))\n",
    "\n",
    "total_sum = n * (n + 1) //2\n",
    "\n",
    "if total_sum %5!=0 and total_sum<=300:\n",
    "  print(total_sum)\n",
    "\n",
    "\n",
    "print (total_sum)\n"
   ]
  },
  {
   "cell_type": "code",
   "execution_count": 32,
   "id": "0beee3fe-3233-461f-86ea-9a8ce4ec8cb4",
   "metadata": {},
   "outputs": [
    {
     "name": "stdin",
     "output_type": "stream",
     "text": [
      "Enter a positive integer N:  30\n"
     ]
    },
    {
     "name": "stdout",
     "output_type": "stream",
     "text": [
      "The final sum is: 309\n"
     ]
    }
   ],
   "source": [
    "def sum_to_n_recursive(n, current_sum=0):\n",
    "    if n <= 0 or current_sum > 300:\n",
    "        return current_sum\n",
    "    \n",
    "    if n % 5 != 0:\n",
    "        current_sum += n\n",
    "    \n",
    "    return sum_to_n_recursive(n-1 , current_sum)\n",
    "\n",
    "# Example usage\n",
    "n = int(input(\"Enter a positive integer N: \"))\n",
    "final_sum = sum_to_n_recursive(n)\n",
    "print(f\"The final sum is: {final_sum}\")\n"
   ]
  },
  {
   "cell_type": "code",
   "execution_count": 9,
   "id": "798f5556-9d34-4c2a-ae25-4f97a658d0fb",
   "metadata": {},
   "outputs": [
    {
     "name": "stdin",
     "output_type": "stream",
     "text": [
      "enter the number  1\n",
      "enter the number  5\n",
      "enter the number  78\n",
      "enter the number  85\n",
      "enter the number  45\n",
      "enter the number  515\n",
      "enter the number  78\n",
      "enter the number  0\n"
     ]
    },
    {
     "name": "stdout",
     "output_type": "stream",
     "text": [
      "807\n",
      "10.346153846153847\n"
     ]
    }
   ],
   "source": [
    "##Problem 9: Write a program that keeps on accepting a number from the user \n",
    "##until the user enters Zero. Display the sum and average of all the numbers.\n",
    "capital=True\n",
    "count=0\n",
    "while True:\n",
    "    n= int (input(\"enter the number \"))\n",
    "    if n== 0:\n",
    "        break\n",
    "        \n",
    "    for i in range (1,n+1):\n",
    "                                             ###self\n",
    "        count =count+1\n",
    "print (count)    \n",
    "avrege= count/i           \n",
    "print (avrege)     "
   ]
  },
  {
   "cell_type": "code",
   "execution_count": 29,
   "id": "4026ab84-dce2-49cb-9fef-f48250f47a56",
   "metadata": {},
   "outputs": [
    {
     "name": "stdout",
     "output_type": "stream",
     "text": [
      "2002,2009,2016,2023,2030,2037,2044,2051,2058,2065,2072,2079,2086,2093,2100,2107,2114,2121,2128,2135,2142,2149,2156,2163,2170,2177,2184,2191,2198,2205,2212,2219,2226,2233,2240,2247,2254,2261,2268,2275,2282,2289,2296,2303,2310,2317,2324,2331,2338,2345,2352,2359,2366,2373,2380,2387,2394,2401,2408,2415,2422,2429,2436,2443,2450,2457,2464,2471,2478,2485,2492,2499,2506,2513,2520,2527,2534,2541,2548,2555,2562,2569,2576,2583,2590,2597,2604,2611,2618,2625,2632,2639,2646,2653,2660,2667,2674,2681,2688,2695,2702,2709,2716,2723,2730,2737,2744,2751,2758,2765,2772,2779,2786,2793,2800,2807,2814,2821,2828,2835,2842,2849,2856,2863,2870,2877,2884,2891,2898,2905,2912,2919,2926,2933,2940,2947,2954,2961,2968,2975,2982,2989,2996,3003,3010,3017,3024,3031,3038,3045,3052,3059,3066,3073,3080,3087,3094,3101,3108,3115,3122,3129,3136,3143,3150,3157,3164,3171,3178,3185,3192,3199,"
     ]
    }
   ],
   "source": [
    "#Problem 9: Write a program which will find all such numbers which \n",
    "#are divisible by 7 but are not a multiple of 5, between 2000 and 3200 (both included).\n",
    "#The numbers obtained should be printed in a comma-separated sequence on a single line.\n",
    "\n",
    "for i in range (2000,3201):                  ##self\n",
    "    if i %7==0 and i*5!=0:\n",
    "       print (i,end=(\",\"))"
   ]
  },
  {
   "cell_type": "code",
   "execution_count": 39,
   "id": "8c6aa74a-42b4-4fa2-9311-82814bb0f546",
   "metadata": {},
   "outputs": [
    {
     "name": "stdout",
     "output_type": "stream",
     "text": [
      "2000 2002 2004 2006 2008 2020 2022 2024 2026 2028 2040 2042 2044 2046 2048 2060 2062 2064 2066 2068 2080 2082 2084 2086 2088 2200 2202 2204 2206 2208 2220 2222 2224 2226 2228 2240 2242 2244 2246 2248 2260 2262 2264 2266 2268 2280 2282 2284 2286 2288 2400 2402 2404 2406 2408 2420 2422 2424 2426 2428 2440 2442 2444 2446 2448 2460 2462 2464 2466 2468 2480 2482 2484 2486 2488 2600 2602 2604 2606 2608 2620 2622 2624 2626 2628 2640 2642 2644 2646 2648 2660 2662 2664 2666 2668 2680 2682 2684 2686 2688 2800 2802 2804 2806 2808 2820 2822 2824 2826 2828 2840 2842 2844 2846 2848 2860 2862 2864 2866 2868 2880 2882 2884 2886 2888 "
     ]
    }
   ],
   "source": [
    "##Write a program, which will find all such numbers between 1000 and 3000 (both included)\n",
    "##such that each digit of the number is an even number. The numbers obtained should be \n",
    "##printed in a space-separated sequence on a single line.\n",
    "\n",
    "\n",
    "\n",
    "for i in range (1000,3001):\n",
    "    number=str(i)\n",
    "    if all (int(digit)%2==0 for digit in  number):                     ##number   if all(int(digit) % 2 == 0 for digit in str_number):\n",
    "      print (i,end=(\" \") )                                            "
   ]
  },
  {
   "cell_type": "code",
   "execution_count": 25,
   "id": "64c3e902-cf5b-4f4c-85f2-520e485ddb98",
   "metadata": {},
   "outputs": [
    {
     "name": "stdout",
     "output_type": "stream",
     "text": [
      "-1 2\n"
     ]
    }
   ],
   "source": [
    "# Initialize the starting position of the robot\n",
    "x, y = 0, 0\n",
    "\n",
    "# Define the list of movements\n",
    "movements = [\n",
    "    (\"UP\", 5),\n",
    "    (\"DOWN\", 3),\n",
    "    (\"LEFT\", 3),\n",
    "    (\"RIGHT\", 2)\n",
    "]\n",
    "\n",
    "# Process each movement\n",
    "for direction, steps in movements:\n",
    "    if direction == \"UP\":\n",
    "        y += steps\n",
    "    elif direction == \"DOWN\":\n",
    "        y -= steps\n",
    "    elif direction == \"LEFT\":\n",
    "        x -= steps\n",
    "    elif direction == \"RIGHT\":\n",
    "        x += steps\n",
    "\n",
    "# Print the final position\n",
    "print (x,y)"
   ]
  },
  {
   "cell_type": "code",
   "execution_count": 28,
   "id": "6ebb6774-910e-4c0e-802e-d3e2f626ac8d",
   "metadata": {},
   "outputs": [
    {
     "name": "stdout",
     "output_type": "stream",
     "text": [
      "-1 2\n"
     ]
    }
   ],
   "source": [
    "#movment=UP=input(\"enter direction:\")  \n",
    "#DOWN=input(\"enter direction:\") \n",
    "#LEFT=input(\"enter direction:\")  \n",
    "#RIGHT=input(\"enter direction:\")\n",
    "x,y=0,0\n",
    "movments=[\n",
    "    (\"UP\",5),\n",
    "     (\"DOWN\",3),\n",
    "     (\"LEFT\",3),\n",
    "     (\"RIGHT\",2)\n",
    "    ]\n",
    "\n",
    "for direction,steps in movments:\n",
    "    if direction==\"UP\":\n",
    "        y=y+steps\n",
    "    elif direction==\"DOWN\":\n",
    "        y=y-steps\n",
    "    elif direction==\"LEFT\":\n",
    "        x=x-steps\n",
    "    elif direction==\"RIGHT\":\n",
    "        x=x+steps\n",
    "print (x,y)"
   ]
  },
  {
   "cell_type": "code",
   "execution_count": 49,
   "id": "5fcbed67-2fcd-4bb2-bbbe-910023d6e0ac",
   "metadata": {},
   "outputs": [
    {
     "name": "stdin",
     "output_type": "stream",
     "text": [
      " Enter the number : 17\n"
     ]
    },
    {
     "name": "stdout",
     "output_type": "stream",
     "text": [
      "prime\n"
     ]
    }
   ],
   "source": [
    "## Problem 12:Write a program to print whether a given number is a prime number or not\n",
    "\n",
    "num=int (input(\" Enter the number :\"))\n",
    "\n",
    "if num>1:\n",
    "    count=0\n",
    "    for i in range(2,(num//2)+1):\n",
    "        if (num % i) ==0:\n",
    "           print (\" not\") \n",
    "           break\n",
    "    else:\n",
    "      print (\"prime\")\n",
    "      count +=1\n",
    "     \n",
    "\n",
    "\n",
    "\n"
   ]
  },
  {
   "cell_type": "code",
   "execution_count": 50,
   "id": "44b961f9-0b78-4ebf-9a96-2b31b6dfcb25",
   "metadata": {},
   "outputs": [
    {
     "name": "stdout",
     "output_type": "stream",
     "text": [
      "25\n"
     ]
    }
   ],
   "source": [
    "##Problem 13:Print all the Armstrong numbers in a given range.\n",
    "\n",
    "print (5**2)"
   ]
  },
  {
   "cell_type": "code",
   "execution_count": null,
   "id": "bb23c8d7-d1e3-4e34-bd44-71a985d50dea",
   "metadata": {},
   "outputs": [],
   "source": []
  }
 ],
 "metadata": {
  "kernelspec": {
   "display_name": "Python 3 (ipykernel)",
   "language": "python",
   "name": "python3"
  },
  "language_info": {
   "codemirror_mode": {
    "name": "ipython",
    "version": 3
   },
   "file_extension": ".py",
   "mimetype": "text/x-python",
   "name": "python",
   "nbconvert_exporter": "python",
   "pygments_lexer": "ipython3",
   "version": "3.11.7"
  }
 },
 "nbformat": 4,
 "nbformat_minor": 5
}
